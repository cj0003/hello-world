{
  "nbformat": 4,
  "nbformat_minor": 0,
  "metadata": {
    "colab": {
      "provenance": [],
      "authorship_tag": "ABX9TyPdlhAurupQzNPJmZY4+IQT",
      "include_colab_link": true
    },
    "kernelspec": {
      "name": "python3",
      "display_name": "Python 3"
    },
    "language_info": {
      "name": "python"
    }
  },
  "cells": [
    {
      "cell_type": "markdown",
      "metadata": {
        "id": "view-in-github",
        "colab_type": "text"
      },
      "source": [
        "<a href=\"https://colab.research.google.com/github/cj0003/hello-world/blob/master/Untitled1.ipynb\" target=\"_parent\"><img src=\"https://colab.research.google.com/assets/colab-badge.svg\" alt=\"Open In Colab\"/></a>"
      ]
    },
    {
      "cell_type": "code",
      "execution_count": 2,
      "metadata": {
        "colab": {
          "base_uri": "https://localhost:8080/"
        },
        "id": "GF6pMQ1YVgYu",
        "outputId": "0af84105-dd88-4e06-ee08-f551bcf2fde5"
      },
      "outputs": [
        {
          "metadata": {
            "tags": null
          },
          "name": "stdout",
          "output_type": "stream",
          "text": [
            "Mounted at /content/drive\n"
          ]
        }
      ],
      "source": [
        "from google.colab import drive\n",
        "\n",
        "drive.mount('/content/drive')"
      ]
    },
    {
      "cell_type": "markdown",
      "source": [
        "creating new repo from Github\n"
      ],
      "metadata": {
        "id": "sxywuY7lXKXj"
      }
    },
    {
      "cell_type": "code",
      "source": [
        "%mkdir /content/drive/MyDrive/GitHub"
      ],
      "metadata": {
        "id": "2-5906SCXOyj"
      },
      "execution_count": 3,
      "outputs": []
    },
    {
      "cell_type": "markdown",
      "source": [
        "Enter Github repo"
      ],
      "metadata": {
        "id": "yl8mLJ9XXguy"
      }
    },
    {
      "cell_type": "code",
      "source": [
        "%cd /content/drive/MyDrive/GitHub"
      ],
      "metadata": {
        "colab": {
          "base_uri": "https://localhost:8080/"
        },
        "id": "TfKJTeIiXiXs",
        "outputId": "9143bb14-6a39-4aba-bb60-455e37dc2aa9"
      },
      "execution_count": 4,
      "outputs": [
        {
          "output_type": "stream",
          "name": "stdout",
          "text": [
            "/content/drive/MyDrive/GitHub\n"
          ]
        }
      ]
    },
    {
      "cell_type": "markdown",
      "source": [
        "Cloning source coe from GitHub site"
      ],
      "metadata": {
        "id": "q2Qy-LoIXshO"
      }
    },
    {
      "cell_type": "code",
      "source": [
        "! git clone git@github.com:cj0003/learningcolabgit.git"
      ],
      "metadata": {
        "colab": {
          "base_uri": "https://localhost:8080/"
        },
        "id": "JAi4DpPkXwQh",
        "outputId": "41f873e2-cb32-436c-a3bc-61a7ac9fab74"
      },
      "execution_count": 8,
      "outputs": [
        {
          "output_type": "stream",
          "name": "stdout",
          "text": [
            "Cloning into 'learningcolabgit'...\n",
            "Host key verification failed.\n",
            "fatal: Could not read from remote repository.\n",
            "\n",
            "Please make sure you have the correct access rights\n",
            "and the repository exists.\n"
          ]
        }
      ]
    },
    {
      "cell_type": "markdown",
      "source": [
        "lets try this again to see if any changes has been made now\n"
      ],
      "metadata": {
        "id": "Jd8yx0i9eHnD"
      }
    },
    {
      "cell_type": "code",
      "source": [
        "#what the heck is going on"
      ],
      "metadata": {
        "id": "2YtbCsHGew0K"
      },
      "execution_count": null,
      "outputs": []
    },
    {
      "cell_type": "code",
      "source": [
        "! ssh-keygen -R github.com\n"
      ],
      "metadata": {
        "colab": {
          "base_uri": "https://localhost:8080/"
        },
        "id": "rGjF5Vd9ZOJ_",
        "outputId": "0b2fd64e-1587-4665-e529-5d3f36c63542"
      },
      "execution_count": 7,
      "outputs": [
        {
          "output_type": "stream",
          "name": "stdout",
          "text": [
            "Cannot stat /root/.ssh/known_hosts: No such file or directory\r\n"
          ]
        }
      ]
    },
    {
      "cell_type": "markdown",
      "source": [
        "lets try tgus again"
      ],
      "metadata": {
        "id": "dL_1ZTk4fJCM"
      }
    }
  ]
}